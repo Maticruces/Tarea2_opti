{
 "cells": [
  {
   "cell_type": "markdown",
   "metadata": {},
   "source": [
    "## **Gurobi** - Cómo verificar que esté todo instalado y que mi licencia esté funcionando (futuro proximo...)"
   ]
  },
  {
   "cell_type": "code",
   "execution_count": 1,
   "metadata": {},
   "outputs": [],
   "source": [
    "import gurobipy as gp\n",
    "\n",
    "try:\n",
    "    model = gp.Model(\"test_model\")\n",
    "    print(\"Gurobi está instalado correctamente.\")\n",
    "except gp.GurobiError as e:\n",
    "    print(f\"Error al intentar crear el modelo: {e}\")\n",
    "except Exception as e:\n",
    "    print(f\"Error general: {e}\")\n"
   ]
  },
  {
   "cell_type": "code",
   "execution_count": 2,
   "metadata": {},
   "outputs": [],
   "source": [
    "import gurobipy as gp\n",
    "\n",
    "try:\n",
    "    gp.Model()  \n",
    "    print(\"La licencia de Gurobi es válida.\")\n",
    "except gp.GurobiError as e:\n",
    "    if e.errno == gp.GRB_ERROR_NO_LICENSE:\n",
    "        print(\"La licencia de Gurobi ha caducado o no es válida.\")\n",
    "    else:\n",
    "        print(f\"Ocurrió un error relacionado con la licencia: {e}\")\n"
   ]
  },
  {
   "cell_type": "markdown",
   "metadata": {},
   "source": [
    "# **Laboratorio 4: Modelos PL en Python con Gurobi**\n",
    "## Introducción"
   ]
  },
  {
   "cell_type": "code",
   "execution_count": 3,
   "metadata": {},
   "outputs": [],
   "source": [
    "# PUNTO 1: DEFINICION DEL MODELO\n",
    "\n",
    "import gurobipy as gp\n",
    "from gurobipy import Model\n",
    "from gurobipy import GRB\n",
    "\n",
    "#Creamos un modelo\n",
    "modelo = Model(\"nombre_del_modelo\")\n"
   ]
  },
  {
   "cell_type": "code",
   "execution_count": 4,
   "metadata": {},
   "outputs": [],
   "source": [
    "# PUNTO 2: DEFINICION DE VARIABLES \n",
    "# Ocuparemos 'addVar' para una sola variable o 'addVars' para multiples variables.\n",
    "\n",
    "#Variables continuas (pueden tomar cualquier valor dentro de un rango especificado)\n",
    "x = modelo.addVar(lb=0.0, ub=GRB.INFINITY, vtype=GRB.CONTINUOUS, name=\"x\")\n",
    "\n",
    "#Variables enteros (solo pueden tomar valores enteros)\n",
    "y = modelo.addVar(lb=0, ub=GRB.INFINITY, vtype=GRB.INTEGER, name=\"y\")\n",
    "\n",
    "#Variables binarias (solo pueden tomar valores 0 ó 1)\n",
    "z = modelo.addVar(vtype=GRB.BINARY,name=\"z\")\n",
    "\n",
    "#Multiples variables (para definir un conjunto de variables indexadas)\n",
    "I= range(10) #definir conjunto\n",
    "x_1 = modelo.addVars(I, vtype=GRB.CONTINUOUS, name=\"x_1\")\n",
    "y_1 = modelo.addVars(I, vtype=GRB.CONTINUOUS, name=\"y_1\")"
   ]
  },
  {
   "cell_type": "code",
   "execution_count": 5,
   "metadata": {},
   "outputs": [],
   "source": [
    "# PUNTO 3: DEFINICION DE LA F.O. \n",
    "#minimizar\n",
    "modelo.setObjective(3*x + 2*y, GRB.MINIMIZE)\n",
    "\n",
    "#maximizar\n",
    "modelo.setObjective(3*x + 2*y, GRB.MAXIMIZE)"
   ]
  },
  {
   "cell_type": "code",
   "execution_count": 6,
   "metadata": {},
   "outputs": [],
   "source": [
    "# PUNTO 4: DEFINICION DE RESTRICCIONES \n",
    "\n",
    "#Restriccion simple\n",
    "modelo.addConstr(x + y <= 10, \"nombre_restriccion\")\n",
    "\n",
    "#Restricciones multiples\n",
    "modelo.addConstrs((x_1[i]+y_1[i] <= 10 for i in I), \"nombre_restriccion2\")\n",
    "\n",
    "#Restriccion con condiciones, utilizando variables binarias\n",
    "modelo.addConstr( x>= 5 * z, \"condicion z\")  #si z=1 entonces x>= 5; caso contrario x>=0\n"
   ]
  },
  {
   "cell_type": "code",
   "execution_count": 7,
   "metadata": {},
   "outputs": [],
   "source": [
    "# PUNTO 5: PARAMETROS DE OPTIMIZACION\n",
    "\n",
    "#Tiempo maximo de ejecucion \n",
    "modelo.setParam('TimeLimit',100)\n",
    "\n",
    "#Tolerancia de optimalidad\n",
    "modelo.setParam('MIPgap',0.01)\n",
    "\n",
    "#Numero de threads\n",
    "modelo.setParam('Threads',4)\n"
   ]
  },
  {
   "cell_type": "code",
   "execution_count": 8,
   "metadata": {},
   "outputs": [],
   "source": [
    "# PUNTO 6: RESOLUCION DEL MODELO\n",
    "\n",
    "#Optimizar el modelo\n",
    "modelo.optimize()"
   ]
  },
  {
   "cell_type": "code",
   "execution_count": 9,
   "metadata": {},
   "outputs": [],
   "source": [
    "# PUNTO 7: EXTRACCION DE LOS RESULTADOS\n",
    "\n",
    "#valor de las variables\n",
    "valor_x=x.x\n",
    "\n",
    "#Obtener el valor de una F.O\n",
    "valor_fo=modelo.ObjVal\n",
    "valor_fo\n"
   ]
  },
  {
   "cell_type": "code",
   "execution_count": 10,
   "metadata": {},
   "outputs": [],
   "source": [
    "# PUNTO 8: ANALISIS DE SENSIBILIDAD y OTROS RESULTADOS\n",
    "\n",
    "#Reduccion de costos\n",
    "#rc = x.RC\n",
    "\n",
    "#Sombra de precios\n",
    "#sp = modelo.getConstrByName(\"nombre_restriccion\").Pi\n",
    "\n"
   ]
  },
  {
   "cell_type": "code",
   "execution_count": 11,
   "metadata": {},
   "outputs": [],
   "source": [
    "# PUNTO 9: ESPECIFICACION DE OBJETIVOS MULTIPLES\n",
    "\n",
    "modelo.setObjectiveN(3*x + 2*y, index=0, priority=1)\n",
    "modelo.setObjectiveN(2*x + y, index=1, priority = 0)\n"
   ]
  },
  {
   "cell_type": "code",
   "execution_count": 12,
   "metadata": {},
   "outputs": [],
   "source": [
    "# PUNTO 10: EXPORTAR e IMPORTAR MODELOS\n",
    "#gurobi nos opermite exportar un modelo o importarlo\n",
    "\n",
    "#exportar\n",
    "modelo.write(\"model.lp\")\n",
    "modelo.write(\"model.mps\")\n",
    "\n",
    "#importar o leer\n",
    "modelo.read(\"model.lp\")\n"
   ]
  },
  {
   "cell_type": "markdown",
   "metadata": {},
   "source": [
    "Tarea 2:"
   ]
  },
  {
   "cell_type": "code",
   "execution_count": null,
   "metadata": {},
   "outputs": [],
   "source": [
    "# PUNTO 1: DEFINICION DEL MODELO\n",
    "\n",
    "import gurobipy as gp\n",
    "from gurobipy import Model\n",
    "from gurobipy import GRB\n",
    "\n",
    "# Crear el modelo\n",
    "modelo = gp.Model(\"seleccion_guerreros\")"
   ]
  },
  {
   "cell_type": "code",
   "execution_count": null,
   "metadata": {},
   "outputs": [],
   "source": [
    "\n",
    "# Datos del problema\n",
    "guerreros = {\n",
    "    'Berserker': {'vitalidad': 800, 'ataque_fisico': 850, 'ataque_arcano': 0, 'velocidad_ataque': 4, 'curacion': 500, 'dano_fisico': 63750},\n",
    "    'Paladin': {'vitalidad': 1000, 'ataque_fisico': 750, 'ataque_arcano': 500, 'velocidad_ataque': 8, 'curacion': 800, 'dano_fisico': 28125},\n",
    "    'Arquero': {'vitalidad': 500, 'ataque_fisico': 700, 'ataque_arcano': 300, 'velocidad_ataque': 3, 'curacion': 300, 'dano_fisico': 70000},\n",
    "    'Mago': {'vitalidad': 400, 'ataque_fisico': 0, 'ataque_arcano': 1000, 'velocidad_ataque': 6, 'curacion': 500, 'dano_fisico': 0},\n",
    "    'Sacerdote': {'vitalidad': 600, 'ataque_fisico': 0, 'ataque_arcano': 800, 'velocidad_ataque': 8, 'curacion': 1000, 'dano_fisico': 0},\n",
    "    'Druida': {'vitalidad': 700, 'ataque_fisico': 400, 'ataque_arcano': 700, 'velocidad_ataque': 5, 'curacion': 800, 'dano_fisico': 24000},\n",
    "    'Elfo': {'vitalidad': 650, 'ataque_fisico': 200, 'ataque_arcano': 900, 'velocidad_ataque': 4, 'curacion': 800, 'dano_fisico': 15000},\n",
    "    'Asesino': {'vitalidad': 600, 'ataque_fisico': 1000, 'ataque_arcano': 0, 'velocidad_ataque': 1, 'curacion': 200, 'dano_fisico': 300000},\n",
    "    'Espadachin': {'vitalidad': 700, 'ataque_fisico': 700, 'ataque_arcano': 0, 'velocidad_ataque': 1, 'curacion': 600, 'dano_fisico': 210000},\n",
    "    'Gigante': {'vitalidad': 1000, 'ataque_fisico': 10000, 'ataque_arcano': 200, 'velocidad_ataque': 10, 'curacion': 400, 'dano_fisico': 300000},\n",
    "}"
   ]
  },
  {
   "cell_type": "code",
   "execution_count": null,
   "metadata": {},
   "outputs": [],
   "source": [
    "\n",
    "# Variables de decisión\n",
    "x = modelo.addVars(guerreros.keys(), vtype=GRB.BINARY, name=\"x\")"
   ]
  },
  {
   "cell_type": "code",
   "execution_count": null,
   "metadata": {},
   "outputs": [],
   "source": [
    "# Función objetivo: maximizar el daño físico total\n",
    "modelo.setObjective(gp.quicksum(guerreros[g]['dano_fisico'] * x[g] for g in guerreros), GRB.MAXIMIZE)"
   ]
  },
  {
   "cell_type": "code",
   "execution_count": null,
   "metadata": {},
   "outputs": [],
   "source": [
    "# Restricción 1: Ataque arcano promedio ≥ 450\n",
    "modelo.addConstr(gp.quicksum(guerreros[g]['ataque_arcano'] * x[g] for g in guerreros) / gp.quicksum(x[g] for g in guerreros) >= 450, \"arcano_promedio\")\n",
    "\n",
    "# Restricción 2: Vitalidad promedio ≥ 500\n",
    "modelo.addConstr(gp.quicksum(guerreros[g]['vitalidad'] * x[g] for g in guerreros) / gp.quicksum(x[g] for g in guerreros) >= 500, \"vitalidad_promedio\")\n",
    "\n",
    "# Restricción 3: Curación promedio ≥ 300\n",
    "modelo.addConstr(gp.quicksum(guerreros[g]['curacion'] * x[g] for g in guerreros) / gp.quicksum(x[g] for g in guerreros) >= 300, \"curacion_promedio\")\n",
    "\n",
    "# Restricción 4: No puede haber un Berserker y un Paladín juntos\n",
    "modelo.addConstr(x['Berserker'] + x['Paladin'] <= 1, \"berserker_paladin\")\n",
    "\n",
    "# Restricción 5: No puede haber un Asesino y un Sacerdote juntos\n",
    "modelo.addConstr(x['Asesino'] + x['Sacerdote'] <= 1, \"asesino_sacerdote\")\n",
    "\n",
    "# Restricción 6: Seleccionar exactamente 4 guerreros\n",
    "modelo.addConstr(gp.quicksum(x[g] for g in guerreros) == 4, \"cuatro_guerreros\")\n",
    "# Optimizar el modelo\n",
    "modelo.optimize()"
   ]
  },
  {
   "cell_type": "code",
   "execution_count": null,
   "metadata": {},
   "outputs": [],
   "source": [
    "\n",
    "# Resultados\n",
    "seleccionados = [g for g in guerreros if x[g].x > 0.5]\n",
    "print(f'Guerreros seleccionados: {seleccionados}')\n",
    "print(f'Daño físico total: {modelo.objVal}')"
   ]
  }
 ],
 "metadata": {
  "kernelspec": {
   "display_name": "Python 3",
   "language": "python",
   "name": "python3"
  },
  "language_info": {
   "codemirror_mode": {
    "name": "ipython",
    "version": 3
   },
   "file_extension": ".py",
   "mimetype": "text/x-python",
   "name": "python",
   "nbconvert_exporter": "python",
   "pygments_lexer": "ipython3",
   "version": "3.12.6"
  }
 },
 "nbformat": 4,
 "nbformat_minor": 4
}
